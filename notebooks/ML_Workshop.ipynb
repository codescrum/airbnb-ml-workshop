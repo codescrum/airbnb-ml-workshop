{
 "cells": [
  {
   "cell_type": "markdown",
   "metadata": {},
   "source": [
    "# Machine Learning Workshop"
   ]
  },
  {
   "cell_type": "markdown",
   "metadata": {},
   "source": [
    "<div style=\"text-align: justify\"> \n",
    "For this workshop, we are going to explore a really interesting dataset. That is the London Airbnb listings dataset. The data was scraped from the Airbnb site and is publicly available at [Inside Airbnb](http://insideairbnb.com/about.html). This dataset contains \"publicly available information about a city's Airbnb's listings, Inside Airbnb provides filters and key metrics so you can see how Airbnb is being used to compete with the residential housing market\".<br><br>\n",
    "\n",
    "We are going to analyze this data interactively using a Python Jupyter notebook. This allows us a better interaction and visualization experience of the dataset. Before doing that, we need to configure your workspace first. There are two options: manually configure the environment or install a pre-configured python distribution such as [Anaconda](https://www.anaconda.com/download/). For this post, we used python version 2.7 so it would be best if you use that version as well. <br><br>\n",
    "\n",
    "In the following image, we can see the available rooms in the city. The red dots represent entire house/apartments, the green dots represent private rooms and the blue dots shared rooms. At the moment the data was scrapped the total number of listings was 49,348 so nowadays the total number will be somewhat different.\n",
    "</div>"
   ]
  },
  {
   "cell_type": "markdown",
   "metadata": {},
   "source": [
    "![title](resources/london.png)"
   ]
  },
  {
   "cell_type": "markdown",
   "metadata": {},
   "source": [
    "## 1. Package Requirements"
   ]
  },
  {
   "cell_type": "markdown",
   "metadata": {},
   "source": [
    "<div style=\"text-align: justify\"> \n",
    "Additionally, we need to check if we have installed the required python libraries necessary to run the notebook. If you installed the anaconda distribution, you probably already have most of the packages already installed. If not, you can use pip to install them.\n",
    "</div>"
   ]
  },
  {
   "cell_type": "markdown",
   "metadata": {},
   "source": [
    "### 1.1 Default Python Environment"
   ]
  },
  {
   "cell_type": "markdown",
   "metadata": {},
   "source": [
    "```\n",
    "jupyter ~=1.0.0\n",
    "jupyterthemes ~=0.18.0\n",
    "numpy ~=1.12.1\n",
    "pandas ~=0.20.1\n",
    "scikit-learn ~=0.18.1\n",
    "seaborn ~=0.8 ```"
   ]
  },
  {
   "cell_type": "markdown",
   "metadata": {},
   "source": [
    "### 1.2 Anaconda Distribution Environment"
   ]
  },
  {
   "cell_type": "markdown",
   "metadata": {},
   "source": [
    "```\n",
    "python ~=2.7.13\n",
    "jupyterthemes ~=0.18.0\n",
    "lesscpy ~=0.12.0\n",
    "seaborn ~=0.8```"
   ]
  },
  {
   "cell_type": "markdown",
   "metadata": {},
   "source": [
    "### 1.3 Importing the Packages to your Notebook"
   ]
  },
  {
   "cell_type": "markdown",
   "metadata": {},
   "source": [
    "<div style=\"text-align: justify\">\n",
    "We need to import the necessary packages to use them through the notebook. We are going to import libraries for data manipulation, visualization, validation, etc. Among the most useful packages are pandas (For data manipulation), matplotlib (Matlab style plots) and sklearn (Model training and validation). We are going to use them plenty, so let's get to it!\n",
    "</div>"
   ]
  },
  {
   "cell_type": "code",
   "execution_count": 1,
   "metadata": {
    "collapsed": true
   },
   "outputs": [],
   "source": [
    "import pandas as pd\n",
    "import matplotlib.pyplot as plt\n",
    "import numpy as np\n",
    "import seaborn as sns\n",
    "\n",
    "# Utilities Libraries\n",
    "import string\n",
    "import re\n",
    "from collections import defaultdict\n",
    "\n",
    "# Sklearn ML Algorithms\n",
    "from sklearn.metrics import r2_score, mean_absolute_error, mean_squared_error\n",
    "from sklearn.tree import DecisionTreeRegressor\n",
    "from sklearn.model_selection import cross_val_score, GridSearchCV, train_test_split, KFold\n",
    "from sklearn import preprocessing\n",
    "\n",
    "# Some libraries configuration options\n",
    "pd.set_option(\"max_columns\", None)\n",
    "plt.rcParams[\"figure.figsize\"] = [10,8]"
   ]
  },
  {
   "cell_type": "markdown",
   "metadata": {},
   "source": [
    "<div style=\"text-align: justify\">\n",
    "Furthermore, we are going to use the jupyterthemes styling capabilities to make our graphics more visually appealing.\n",
    "</div>"
   ]
  },
  {
   "cell_type": "code",
   "execution_count": 3,
   "metadata": {
    "collapsed": true
   },
   "outputs": [],
   "source": [
    "# Jupyter notebook themes\n",
    "\n",
    "# import jtplot module in notebook\n",
    "from jupyterthemes import jtplot\n",
    "\n",
    "jtplot.style(theme='chesterish')\n",
    "\n",
    "# set \"context\" (paper, notebook, talk, poster)\n",
    "# scale font-size of ticklabels, legend, etc.\n",
    "jtplot.style(context='talk', fscale=1.4, spines=False, gridlines='--')\n",
    "\n",
    "# turn on X- and Y-axis tick marks (default=False)\n",
    "# turn off the axis grid lines (default=True)\n",
    "# and set the default figure size\n",
    "jtplot.style(ticks=True, grid=False, figsize=(6, 4.5))\n",
    "\n",
    "# reset default matplotlib rcParams\n",
    "jtplot.reset()"
   ]
  },
  {
   "cell_type": "markdown",
   "metadata": {},
   "source": [
    "## 1. Importing the initial dataset"
   ]
  },
  {
   "cell_type": "markdown",
   "metadata": {},
   "source": [
    "<div style=\"text-align: justify\">\n",
    "The dataset is available [here](http://insideairbnb.com/get-the-data.html) (Search for London). The data is formated as a csv file which is really simple to import into our Jupyter notebook using the pandas library. Since this dataset will occupy more memory than the pandas default setting. We must specify an argument to override the pandas low memory setting.\n",
    "</div>"
   ]
  },
  {
   "cell_type": "code",
   "execution_count": 5,
   "metadata": {},
   "outputs": [],
   "source": [
    "listings = pd.read_csv(\"../data/listings.csv\", low_memory=False)"
   ]
  },
  {
   "cell_type": "markdown",
   "metadata": {},
   "source": [
    "<div style=\"text-align: justify\">\n",
    "Let's display some data rows to inspect the available features. We can do that using the python slicing notation. We are going to take the first three records and Jupyter will format them to fit nicely in our browser.\n",
    "</div>"
   ]
  },
  {
   "cell_type": "code",
   "execution_count": 6,
   "metadata": {},
   "outputs": [
    {
     "data": {
      "text/html": [
       "<div>\n",
       "<style>\n",
       "    .dataframe thead tr:only-child th {\n",
       "        text-align: right;\n",
       "    }\n",
       "\n",
       "    .dataframe thead th {\n",
       "        text-align: left;\n",
       "    }\n",
       "\n",
       "    .dataframe tbody tr th {\n",
       "        vertical-align: top;\n",
       "    }\n",
       "</style>\n",
       "<table border=\"1\" class=\"dataframe\">\n",
       "  <thead>\n",
       "    <tr style=\"text-align: right;\">\n",
       "      <th></th>\n",
       "      <th>id</th>\n",
       "      <th>listing_url</th>\n",
       "      <th>scrape_id</th>\n",
       "      <th>last_scraped</th>\n",
       "      <th>name</th>\n",
       "      <th>summary</th>\n",
       "      <th>space</th>\n",
       "      <th>description</th>\n",
       "      <th>experiences_offered</th>\n",
       "      <th>neighborhood_overview</th>\n",
       "      <th>notes</th>\n",
       "      <th>transit</th>\n",
       "      <th>access</th>\n",
       "      <th>interaction</th>\n",
       "      <th>house_rules</th>\n",
       "      <th>thumbnail_url</th>\n",
       "      <th>medium_url</th>\n",
       "      <th>picture_url</th>\n",
       "      <th>xl_picture_url</th>\n",
       "      <th>host_id</th>\n",
       "      <th>host_url</th>\n",
       "      <th>host_name</th>\n",
       "      <th>host_since</th>\n",
       "      <th>host_location</th>\n",
       "      <th>host_about</th>\n",
       "      <th>host_response_time</th>\n",
       "      <th>host_response_rate</th>\n",
       "      <th>host_acceptance_rate</th>\n",
       "      <th>host_is_superhost</th>\n",
       "      <th>host_thumbnail_url</th>\n",
       "      <th>host_picture_url</th>\n",
       "      <th>host_neighbourhood</th>\n",
       "      <th>host_listings_count</th>\n",
       "      <th>host_total_listings_count</th>\n",
       "      <th>host_verifications</th>\n",
       "      <th>host_has_profile_pic</th>\n",
       "      <th>host_identity_verified</th>\n",
       "      <th>street</th>\n",
       "      <th>neighbourhood</th>\n",
       "      <th>neighbourhood_cleansed</th>\n",
       "      <th>neighbourhood_group_cleansed</th>\n",
       "      <th>city</th>\n",
       "      <th>state</th>\n",
       "      <th>zipcode</th>\n",
       "      <th>market</th>\n",
       "      <th>smart_location</th>\n",
       "      <th>country_code</th>\n",
       "      <th>country</th>\n",
       "      <th>latitude</th>\n",
       "      <th>longitude</th>\n",
       "      <th>is_location_exact</th>\n",
       "      <th>property_type</th>\n",
       "      <th>room_type</th>\n",
       "      <th>accommodates</th>\n",
       "      <th>bathrooms</th>\n",
       "      <th>bedrooms</th>\n",
       "      <th>beds</th>\n",
       "      <th>bed_type</th>\n",
       "      <th>amenities</th>\n",
       "      <th>square_feet</th>\n",
       "      <th>price</th>\n",
       "      <th>weekly_price</th>\n",
       "      <th>monthly_price</th>\n",
       "      <th>security_deposit</th>\n",
       "      <th>cleaning_fee</th>\n",
       "      <th>guests_included</th>\n",
       "      <th>extra_people</th>\n",
       "      <th>minimum_nights</th>\n",
       "      <th>maximum_nights</th>\n",
       "      <th>calendar_updated</th>\n",
       "      <th>has_availability</th>\n",
       "      <th>availability_30</th>\n",
       "      <th>availability_60</th>\n",
       "      <th>availability_90</th>\n",
       "      <th>availability_365</th>\n",
       "      <th>calendar_last_scraped</th>\n",
       "      <th>number_of_reviews</th>\n",
       "      <th>first_review</th>\n",
       "      <th>last_review</th>\n",
       "      <th>review_scores_rating</th>\n",
       "      <th>review_scores_accuracy</th>\n",
       "      <th>review_scores_cleanliness</th>\n",
       "      <th>review_scores_checkin</th>\n",
       "      <th>review_scores_communication</th>\n",
       "      <th>review_scores_location</th>\n",
       "      <th>review_scores_value</th>\n",
       "      <th>requires_license</th>\n",
       "      <th>license</th>\n",
       "      <th>jurisdiction_names</th>\n",
       "      <th>instant_bookable</th>\n",
       "      <th>cancellation_policy</th>\n",
       "      <th>require_guest_profile_picture</th>\n",
       "      <th>require_guest_phone_verification</th>\n",
       "      <th>calculated_host_listings_count</th>\n",
       "      <th>reviews_per_month</th>\n",
       "    </tr>\n",
       "  </thead>\n",
       "  <tbody>\n",
       "    <tr>\n",
       "      <th>0</th>\n",
       "      <td>15896822</td>\n",
       "      <td>https://www.airbnb.com/rooms/15896822</td>\n",
       "      <td>20170304065726</td>\n",
       "      <td>2017-03-05</td>\n",
       "      <td>Double room in newly refurbished flat</td>\n",
       "      <td>My place is close to TK Max, John Lewis, Marks...</td>\n",
       "      <td>NaN</td>\n",
       "      <td>My place is close to TK Max, John Lewis, Marks...</td>\n",
       "      <td>none</td>\n",
       "      <td>NaN</td>\n",
       "      <td>NaN</td>\n",
       "      <td>NaN</td>\n",
       "      <td>NaN</td>\n",
       "      <td>NaN</td>\n",
       "      <td>- Keep clean and tidy. Be respectful to the ot...</td>\n",
       "      <td>https://a0.muscache.com/im/pictures/1d9cad1f-a...</td>\n",
       "      <td>https://a0.muscache.com/im/pictures/1d9cad1f-a...</td>\n",
       "      <td>https://a0.muscache.com/im/pictures/1d9cad1f-a...</td>\n",
       "      <td>https://a0.muscache.com/im/pictures/1d9cad1f-a...</td>\n",
       "      <td>69018624</td>\n",
       "      <td>https://www.airbnb.com/users/show/69018624</td>\n",
       "      <td>Dafina</td>\n",
       "      <td>2016-04-26</td>\n",
       "      <td>London, England, United Kingdom</td>\n",
       "      <td>NaN</td>\n",
       "      <td>within a day</td>\n",
       "      <td>100%</td>\n",
       "      <td>NaN</td>\n",
       "      <td>f</td>\n",
       "      <td>https://a0.muscache.com/im/pictures/3aa93e9d-0...</td>\n",
       "      <td>https://a0.muscache.com/im/pictures/3aa93e9d-0...</td>\n",
       "      <td>RB of Kingston upon Thames</td>\n",
       "      <td>1.0</td>\n",
       "      <td>1.0</td>\n",
       "      <td>['email', 'phone', 'facebook']</td>\n",
       "      <td>t</td>\n",
       "      <td>f</td>\n",
       "      <td>A Thames Street, Kingston upon Thames, England...</td>\n",
       "      <td>RB of Kingston upon Thames</td>\n",
       "      <td>Kingston upon Thames</td>\n",
       "      <td>NaN</td>\n",
       "      <td>Kingston upon Thames</td>\n",
       "      <td>England</td>\n",
       "      <td>KT1 1PE</td>\n",
       "      <td>London</td>\n",
       "      <td>Kingston upon Thames, United Kingdom</td>\n",
       "      <td>GB</td>\n",
       "      <td>United Kingdom</td>\n",
       "      <td>51.410036</td>\n",
       "      <td>-0.306323</td>\n",
       "      <td>t</td>\n",
       "      <td>Apartment</td>\n",
       "      <td>Private room</td>\n",
       "      <td>1</td>\n",
       "      <td>1.0</td>\n",
       "      <td>1.0</td>\n",
       "      <td>1.0</td>\n",
       "      <td>Real Bed</td>\n",
       "      <td>{\"Wireless Internet\",Kitchen,Washer,\"Smoke det...</td>\n",
       "      <td>NaN</td>\n",
       "      <td>$23.00</td>\n",
       "      <td>NaN</td>\n",
       "      <td>NaN</td>\n",
       "      <td>NaN</td>\n",
       "      <td>NaN</td>\n",
       "      <td>1</td>\n",
       "      <td>$8.00</td>\n",
       "      <td>7</td>\n",
       "      <td>1125</td>\n",
       "      <td>6 weeks ago</td>\n",
       "      <td>NaN</td>\n",
       "      <td>1</td>\n",
       "      <td>31</td>\n",
       "      <td>61</td>\n",
       "      <td>61</td>\n",
       "      <td>2017-03-05</td>\n",
       "      <td>1</td>\n",
       "      <td>2016-12-03</td>\n",
       "      <td>2016-12-03</td>\n",
       "      <td>100.0</td>\n",
       "      <td>10.0</td>\n",
       "      <td>10.0</td>\n",
       "      <td>10.0</td>\n",
       "      <td>10.0</td>\n",
       "      <td>10.0</td>\n",
       "      <td>10.0</td>\n",
       "      <td>f</td>\n",
       "      <td>NaN</td>\n",
       "      <td>NaN</td>\n",
       "      <td>f</td>\n",
       "      <td>flexible</td>\n",
       "      <td>f</td>\n",
       "      <td>f</td>\n",
       "      <td>1</td>\n",
       "      <td>0.32</td>\n",
       "    </tr>\n",
       "    <tr>\n",
       "      <th>1</th>\n",
       "      <td>4836957</td>\n",
       "      <td>https://www.airbnb.com/rooms/4836957</td>\n",
       "      <td>20170304065726</td>\n",
       "      <td>2017-03-05</td>\n",
       "      <td>Modern room 25m from Central London</td>\n",
       "      <td>This lovely spacious double bedroom is set in ...</td>\n",
       "      <td>////*** This Price include Parking but not Kit...</td>\n",
       "      <td>This lovely spacious double bedroom is set in ...</td>\n",
       "      <td>family</td>\n",
       "      <td>Kingston upon Thames is a vibrant Surrey marke...</td>\n",
       "      <td>Guests can in advance ask for any help they mi...</td>\n",
       "      <td>Transport:  10 mins walk to overground station...</td>\n",
       "      <td>Spacious living room with King size sofa bed+d...</td>\n",
       "      <td>We usually provide  warm welcome to our guests...</td>\n",
       "      <td>No smoking No Pets  Please ask before using an...</td>\n",
       "      <td>https://a0.muscache.com/im/pictures/61075138/4...</td>\n",
       "      <td>https://a0.muscache.com/im/pictures/61075138/4...</td>\n",
       "      <td>https://a0.muscache.com/im/pictures/61075138/4...</td>\n",
       "      <td>https://a0.muscache.com/im/pictures/61075138/4...</td>\n",
       "      <td>18154504</td>\n",
       "      <td>https://www.airbnb.com/users/show/18154504</td>\n",
       "      <td>Anas</td>\n",
       "      <td>2014-07-15</td>\n",
       "      <td>London</td>\n",
       "      <td>We are a professional working couple in our la...</td>\n",
       "      <td>within a few hours</td>\n",
       "      <td>100%</td>\n",
       "      <td>NaN</td>\n",
       "      <td>f</td>\n",
       "      <td>https://a0.muscache.com/im/users/18154504/prof...</td>\n",
       "      <td>https://a0.muscache.com/im/users/18154504/prof...</td>\n",
       "      <td>RB of Kingston upon Thames</td>\n",
       "      <td>1.0</td>\n",
       "      <td>1.0</td>\n",
       "      <td>['email', 'phone', 'reviews', 'jumio']</td>\n",
       "      <td>t</td>\n",
       "      <td>t</td>\n",
       "      <td>London Road, Kingston upon Thames, Greater Lon...</td>\n",
       "      <td>RB of Kingston upon Thames</td>\n",
       "      <td>Kingston upon Thames</td>\n",
       "      <td>NaN</td>\n",
       "      <td>Kingston upon Thames</td>\n",
       "      <td>Greater London</td>\n",
       "      <td>KT2 6QS</td>\n",
       "      <td>London</td>\n",
       "      <td>Kingston upon Thames, United Kingdom</td>\n",
       "      <td>GB</td>\n",
       "      <td>United Kingdom</td>\n",
       "      <td>51.411482</td>\n",
       "      <td>-0.290704</td>\n",
       "      <td>t</td>\n",
       "      <td>Apartment</td>\n",
       "      <td>Private room</td>\n",
       "      <td>2</td>\n",
       "      <td>1.0</td>\n",
       "      <td>1.0</td>\n",
       "      <td>1.0</td>\n",
       "      <td>Pull-out Sofa</td>\n",
       "      <td>{TV,Internet,\"Wireless Internet\",\"Free parking...</td>\n",
       "      <td>NaN</td>\n",
       "      <td>$50.00</td>\n",
       "      <td>$300.00</td>\n",
       "      <td>NaN</td>\n",
       "      <td>NaN</td>\n",
       "      <td>NaN</td>\n",
       "      <td>1</td>\n",
       "      <td>$0.00</td>\n",
       "      <td>1</td>\n",
       "      <td>1125</td>\n",
       "      <td>5 months ago</td>\n",
       "      <td>NaN</td>\n",
       "      <td>29</td>\n",
       "      <td>59</td>\n",
       "      <td>89</td>\n",
       "      <td>364</td>\n",
       "      <td>2017-03-04</td>\n",
       "      <td>15</td>\n",
       "      <td>2015-05-03</td>\n",
       "      <td>2016-09-07</td>\n",
       "      <td>91.0</td>\n",
       "      <td>9.0</td>\n",
       "      <td>9.0</td>\n",
       "      <td>10.0</td>\n",
       "      <td>9.0</td>\n",
       "      <td>9.0</td>\n",
       "      <td>10.0</td>\n",
       "      <td>f</td>\n",
       "      <td>NaN</td>\n",
       "      <td>NaN</td>\n",
       "      <td>f</td>\n",
       "      <td>moderate</td>\n",
       "      <td>f</td>\n",
       "      <td>f</td>\n",
       "      <td>1</td>\n",
       "      <td>0.67</td>\n",
       "    </tr>\n",
       "    <tr>\n",
       "      <th>2</th>\n",
       "      <td>13355982</td>\n",
       "      <td>https://www.airbnb.com/rooms/13355982</td>\n",
       "      <td>20170304065726</td>\n",
       "      <td>2017-03-05</td>\n",
       "      <td>Lovely double bedroom in Kingston Upon Thames</td>\n",
       "      <td>Spacious double bedroom, because of the light,...</td>\n",
       "      <td>NaN</td>\n",
       "      <td>Spacious double bedroom, because of the light,...</td>\n",
       "      <td>none</td>\n",
       "      <td>NaN</td>\n",
       "      <td>NaN</td>\n",
       "      <td>NaN</td>\n",
       "      <td>NaN</td>\n",
       "      <td>NaN</td>\n",
       "      <td>NaN</td>\n",
       "      <td>https://a0.muscache.com/im/pictures/32875a5a-a...</td>\n",
       "      <td>https://a0.muscache.com/im/pictures/32875a5a-a...</td>\n",
       "      <td>https://a0.muscache.com/im/pictures/32875a5a-a...</td>\n",
       "      <td>https://a0.muscache.com/im/pictures/32875a5a-a...</td>\n",
       "      <td>75741819</td>\n",
       "      <td>https://www.airbnb.com/users/show/75741819</td>\n",
       "      <td>Maria</td>\n",
       "      <td>2016-06-04</td>\n",
       "      <td>London, England, United Kingdom</td>\n",
       "      <td>NaN</td>\n",
       "      <td>NaN</td>\n",
       "      <td>NaN</td>\n",
       "      <td>NaN</td>\n",
       "      <td>f</td>\n",
       "      <td>https://a0.muscache.com/im/pictures/c8c6f611-f...</td>\n",
       "      <td>https://a0.muscache.com/im/pictures/c8c6f611-f...</td>\n",
       "      <td>RB of Kingston upon Thames</td>\n",
       "      <td>1.0</td>\n",
       "      <td>1.0</td>\n",
       "      <td>['email', 'phone', 'reviews']</td>\n",
       "      <td>t</td>\n",
       "      <td>f</td>\n",
       "      <td>Kingston Hill, Kingston upon Thames, KT2 7PW, ...</td>\n",
       "      <td>RB of Kingston upon Thames</td>\n",
       "      <td>Kingston upon Thames</td>\n",
       "      <td>NaN</td>\n",
       "      <td>Kingston upon Thames</td>\n",
       "      <td>NaN</td>\n",
       "      <td>KT2 7PW</td>\n",
       "      <td>NaN</td>\n",
       "      <td>Kingston upon Thames, United Kingdom</td>\n",
       "      <td>GB</td>\n",
       "      <td>United Kingdom</td>\n",
       "      <td>51.415851</td>\n",
       "      <td>-0.286496</td>\n",
       "      <td>t</td>\n",
       "      <td>Apartment</td>\n",
       "      <td>Private room</td>\n",
       "      <td>2</td>\n",
       "      <td>1.0</td>\n",
       "      <td>1.0</td>\n",
       "      <td>1.0</td>\n",
       "      <td>Real Bed</td>\n",
       "      <td>{\"Wireless Internet\",Kitchen,Heating,Washer,\"S...</td>\n",
       "      <td>NaN</td>\n",
       "      <td>$24.00</td>\n",
       "      <td>NaN</td>\n",
       "      <td>NaN</td>\n",
       "      <td>$400.00</td>\n",
       "      <td>NaN</td>\n",
       "      <td>1</td>\n",
       "      <td>$0.00</td>\n",
       "      <td>1</td>\n",
       "      <td>1125</td>\n",
       "      <td>8 months ago</td>\n",
       "      <td>NaN</td>\n",
       "      <td>0</td>\n",
       "      <td>0</td>\n",
       "      <td>0</td>\n",
       "      <td>0</td>\n",
       "      <td>2017-03-05</td>\n",
       "      <td>2</td>\n",
       "      <td>2016-07-06</td>\n",
       "      <td>2016-07-27</td>\n",
       "      <td>80.0</td>\n",
       "      <td>10.0</td>\n",
       "      <td>8.0</td>\n",
       "      <td>10.0</td>\n",
       "      <td>10.0</td>\n",
       "      <td>10.0</td>\n",
       "      <td>8.0</td>\n",
       "      <td>f</td>\n",
       "      <td>NaN</td>\n",
       "      <td>NaN</td>\n",
       "      <td>f</td>\n",
       "      <td>flexible</td>\n",
       "      <td>f</td>\n",
       "      <td>f</td>\n",
       "      <td>1</td>\n",
       "      <td>0.25</td>\n",
       "    </tr>\n",
       "  </tbody>\n",
       "</table>\n",
       "</div>"
      ],
      "text/plain": [
       "         id                            listing_url       scrape_id  \\\n",
       "0  15896822  https://www.airbnb.com/rooms/15896822  20170304065726   \n",
       "1   4836957   https://www.airbnb.com/rooms/4836957  20170304065726   \n",
       "2  13355982  https://www.airbnb.com/rooms/13355982  20170304065726   \n",
       "\n",
       "  last_scraped                                           name  \\\n",
       "0   2017-03-05          Double room in newly refurbished flat   \n",
       "1   2017-03-05            Modern room 25m from Central London   \n",
       "2   2017-03-05  Lovely double bedroom in Kingston Upon Thames   \n",
       "\n",
       "                                             summary  \\\n",
       "0  My place is close to TK Max, John Lewis, Marks...   \n",
       "1  This lovely spacious double bedroom is set in ...   \n",
       "2  Spacious double bedroom, because of the light,...   \n",
       "\n",
       "                                               space  \\\n",
       "0                                                NaN   \n",
       "1  ////*** This Price include Parking but not Kit...   \n",
       "2                                                NaN   \n",
       "\n",
       "                                         description experiences_offered  \\\n",
       "0  My place is close to TK Max, John Lewis, Marks...                none   \n",
       "1  This lovely spacious double bedroom is set in ...              family   \n",
       "2  Spacious double bedroom, because of the light,...                none   \n",
       "\n",
       "                               neighborhood_overview  \\\n",
       "0                                                NaN   \n",
       "1  Kingston upon Thames is a vibrant Surrey marke...   \n",
       "2                                                NaN   \n",
       "\n",
       "                                               notes  \\\n",
       "0                                                NaN   \n",
       "1  Guests can in advance ask for any help they mi...   \n",
       "2                                                NaN   \n",
       "\n",
       "                                             transit  \\\n",
       "0                                                NaN   \n",
       "1  Transport:  10 mins walk to overground station...   \n",
       "2                                                NaN   \n",
       "\n",
       "                                              access  \\\n",
       "0                                                NaN   \n",
       "1  Spacious living room with King size sofa bed+d...   \n",
       "2                                                NaN   \n",
       "\n",
       "                                         interaction  \\\n",
       "0                                                NaN   \n",
       "1  We usually provide  warm welcome to our guests...   \n",
       "2                                                NaN   \n",
       "\n",
       "                                         house_rules  \\\n",
       "0  - Keep clean and tidy. Be respectful to the ot...   \n",
       "1  No smoking No Pets  Please ask before using an...   \n",
       "2                                                NaN   \n",
       "\n",
       "                                       thumbnail_url  \\\n",
       "0  https://a0.muscache.com/im/pictures/1d9cad1f-a...   \n",
       "1  https://a0.muscache.com/im/pictures/61075138/4...   \n",
       "2  https://a0.muscache.com/im/pictures/32875a5a-a...   \n",
       "\n",
       "                                          medium_url  \\\n",
       "0  https://a0.muscache.com/im/pictures/1d9cad1f-a...   \n",
       "1  https://a0.muscache.com/im/pictures/61075138/4...   \n",
       "2  https://a0.muscache.com/im/pictures/32875a5a-a...   \n",
       "\n",
       "                                         picture_url  \\\n",
       "0  https://a0.muscache.com/im/pictures/1d9cad1f-a...   \n",
       "1  https://a0.muscache.com/im/pictures/61075138/4...   \n",
       "2  https://a0.muscache.com/im/pictures/32875a5a-a...   \n",
       "\n",
       "                                      xl_picture_url   host_id  \\\n",
       "0  https://a0.muscache.com/im/pictures/1d9cad1f-a...  69018624   \n",
       "1  https://a0.muscache.com/im/pictures/61075138/4...  18154504   \n",
       "2  https://a0.muscache.com/im/pictures/32875a5a-a...  75741819   \n",
       "\n",
       "                                     host_url host_name  host_since  \\\n",
       "0  https://www.airbnb.com/users/show/69018624    Dafina  2016-04-26   \n",
       "1  https://www.airbnb.com/users/show/18154504      Anas  2014-07-15   \n",
       "2  https://www.airbnb.com/users/show/75741819     Maria  2016-06-04   \n",
       "\n",
       "                     host_location  \\\n",
       "0  London, England, United Kingdom   \n",
       "1                           London   \n",
       "2  London, England, United Kingdom   \n",
       "\n",
       "                                          host_about  host_response_time  \\\n",
       "0                                                NaN        within a day   \n",
       "1  We are a professional working couple in our la...  within a few hours   \n",
       "2                                                NaN                 NaN   \n",
       "\n",
       "  host_response_rate  host_acceptance_rate host_is_superhost  \\\n",
       "0               100%                   NaN                 f   \n",
       "1               100%                   NaN                 f   \n",
       "2                NaN                   NaN                 f   \n",
       "\n",
       "                                  host_thumbnail_url  \\\n",
       "0  https://a0.muscache.com/im/pictures/3aa93e9d-0...   \n",
       "1  https://a0.muscache.com/im/users/18154504/prof...   \n",
       "2  https://a0.muscache.com/im/pictures/c8c6f611-f...   \n",
       "\n",
       "                                    host_picture_url  \\\n",
       "0  https://a0.muscache.com/im/pictures/3aa93e9d-0...   \n",
       "1  https://a0.muscache.com/im/users/18154504/prof...   \n",
       "2  https://a0.muscache.com/im/pictures/c8c6f611-f...   \n",
       "\n",
       "           host_neighbourhood  host_listings_count  host_total_listings_count  \\\n",
       "0  RB of Kingston upon Thames                  1.0                        1.0   \n",
       "1  RB of Kingston upon Thames                  1.0                        1.0   \n",
       "2  RB of Kingston upon Thames                  1.0                        1.0   \n",
       "\n",
       "                       host_verifications host_has_profile_pic  \\\n",
       "0          ['email', 'phone', 'facebook']                    t   \n",
       "1  ['email', 'phone', 'reviews', 'jumio']                    t   \n",
       "2           ['email', 'phone', 'reviews']                    t   \n",
       "\n",
       "  host_identity_verified                                             street  \\\n",
       "0                      f  A Thames Street, Kingston upon Thames, England...   \n",
       "1                      t  London Road, Kingston upon Thames, Greater Lon...   \n",
       "2                      f  Kingston Hill, Kingston upon Thames, KT2 7PW, ...   \n",
       "\n",
       "                neighbourhood neighbourhood_cleansed  \\\n",
       "0  RB of Kingston upon Thames   Kingston upon Thames   \n",
       "1  RB of Kingston upon Thames   Kingston upon Thames   \n",
       "2  RB of Kingston upon Thames   Kingston upon Thames   \n",
       "\n",
       "   neighbourhood_group_cleansed                  city           state  \\\n",
       "0                           NaN  Kingston upon Thames         England   \n",
       "1                           NaN  Kingston upon Thames  Greater London   \n",
       "2                           NaN  Kingston upon Thames             NaN   \n",
       "\n",
       "   zipcode  market                        smart_location country_code  \\\n",
       "0  KT1 1PE  London  Kingston upon Thames, United Kingdom           GB   \n",
       "1  KT2 6QS  London  Kingston upon Thames, United Kingdom           GB   \n",
       "2  KT2 7PW     NaN  Kingston upon Thames, United Kingdom           GB   \n",
       "\n",
       "          country   latitude  longitude is_location_exact property_type  \\\n",
       "0  United Kingdom  51.410036  -0.306323                 t     Apartment   \n",
       "1  United Kingdom  51.411482  -0.290704                 t     Apartment   \n",
       "2  United Kingdom  51.415851  -0.286496                 t     Apartment   \n",
       "\n",
       "      room_type  accommodates  bathrooms  bedrooms  beds       bed_type  \\\n",
       "0  Private room             1        1.0       1.0   1.0       Real Bed   \n",
       "1  Private room             2        1.0       1.0   1.0  Pull-out Sofa   \n",
       "2  Private room             2        1.0       1.0   1.0       Real Bed   \n",
       "\n",
       "                                           amenities  square_feet   price  \\\n",
       "0  {\"Wireless Internet\",Kitchen,Washer,\"Smoke det...          NaN  $23.00   \n",
       "1  {TV,Internet,\"Wireless Internet\",\"Free parking...          NaN  $50.00   \n",
       "2  {\"Wireless Internet\",Kitchen,Heating,Washer,\"S...          NaN  $24.00   \n",
       "\n",
       "  weekly_price monthly_price security_deposit cleaning_fee  guests_included  \\\n",
       "0          NaN           NaN              NaN          NaN                1   \n",
       "1      $300.00           NaN              NaN          NaN                1   \n",
       "2          NaN           NaN          $400.00          NaN                1   \n",
       "\n",
       "  extra_people  minimum_nights  maximum_nights calendar_updated  \\\n",
       "0        $8.00               7            1125      6 weeks ago   \n",
       "1        $0.00               1            1125     5 months ago   \n",
       "2        $0.00               1            1125     8 months ago   \n",
       "\n",
       "   has_availability  availability_30  availability_60  availability_90  \\\n",
       "0               NaN                1               31               61   \n",
       "1               NaN               29               59               89   \n",
       "2               NaN                0                0                0   \n",
       "\n",
       "   availability_365 calendar_last_scraped  number_of_reviews first_review  \\\n",
       "0                61            2017-03-05                  1   2016-12-03   \n",
       "1               364            2017-03-04                 15   2015-05-03   \n",
       "2                 0            2017-03-05                  2   2016-07-06   \n",
       "\n",
       "  last_review  review_scores_rating  review_scores_accuracy  \\\n",
       "0  2016-12-03                 100.0                    10.0   \n",
       "1  2016-09-07                  91.0                     9.0   \n",
       "2  2016-07-27                  80.0                    10.0   \n",
       "\n",
       "   review_scores_cleanliness  review_scores_checkin  \\\n",
       "0                       10.0                   10.0   \n",
       "1                        9.0                   10.0   \n",
       "2                        8.0                   10.0   \n",
       "\n",
       "   review_scores_communication  review_scores_location  review_scores_value  \\\n",
       "0                         10.0                    10.0                 10.0   \n",
       "1                          9.0                     9.0                 10.0   \n",
       "2                         10.0                    10.0                  8.0   \n",
       "\n",
       "  requires_license  license jurisdiction_names instant_bookable  \\\n",
       "0                f      NaN                NaN                f   \n",
       "1                f      NaN                NaN                f   \n",
       "2                f      NaN                NaN                f   \n",
       "\n",
       "  cancellation_policy require_guest_profile_picture  \\\n",
       "0            flexible                             f   \n",
       "1            moderate                             f   \n",
       "2            flexible                             f   \n",
       "\n",
       "  require_guest_phone_verification  calculated_host_listings_count  \\\n",
       "0                                f                               1   \n",
       "1                                f                               1   \n",
       "2                                f                               1   \n",
       "\n",
       "   reviews_per_month  \n",
       "0               0.32  \n",
       "1               0.67  \n",
       "2               0.25  "
      ]
     },
     "execution_count": 6,
     "metadata": {},
     "output_type": "execute_result"
    }
   ],
   "source": [
    "listings[:3]"
   ]
  },
  {
   "cell_type": "markdown",
   "metadata": {},
   "source": [
    "## 2. Feature analysis "
   ]
  },
  {
   "cell_type": "markdown",
   "metadata": {},
   "source": [
    "Now, a really important step in Machine Learning is the feature analysis and feature engineering. This allows us to gain valuable insight from our data and identify the most important features to train our predictive model. First we must check which columns present the most null values. We must decide if they are worth keeping or not."
   ]
  },
  {
   "cell_type": "code",
   "execution_count": 6,
   "metadata": {},
   "outputs": [
    {
     "name": "stdout",
     "output_type": "stream",
     "text": [
      "Total size of the Dataset:  (53904, 95)\n"
     ]
    },
    {
     "data": {
      "text/plain": [
       "id                                      0\n",
       "listing_url                             0\n",
       "scrape_id                               0\n",
       "last_scraped                            0\n",
       "name                                    1\n",
       "summary                              1446\n",
       "space                               17627\n",
       "description                            10\n",
       "experiences_offered                     0\n",
       "neighborhood_overview               22615\n",
       "notes                               33285\n",
       "transit                             21106\n",
       "access                              22616\n",
       "interaction                         24659\n",
       "house_rules                         20530\n",
       "thumbnail_url                        6854\n",
       "medium_url                           6854\n",
       "picture_url                             0\n",
       "xl_picture_url                       6854\n",
       "host_id                                 0\n",
       "host_url                                0\n",
       "host_name                               9\n",
       "host_since                              9\n",
       "host_location                         240\n",
       "host_about                          21200\n",
       "host_response_time                  13380\n",
       "host_response_rate                  13380\n",
       "host_acceptance_rate                53904\n",
       "host_is_superhost                       9\n",
       "host_thumbnail_url                      9\n",
       "                                    ...  \n",
       "guests_included                         0\n",
       "extra_people                            0\n",
       "minimum_nights                          0\n",
       "maximum_nights                          0\n",
       "calendar_updated                        0\n",
       "has_availability                    53904\n",
       "availability_30                         0\n",
       "availability_60                         0\n",
       "availability_90                         0\n",
       "availability_365                        0\n",
       "calendar_last_scraped                   0\n",
       "number_of_reviews                       0\n",
       "first_review                        16466\n",
       "last_review                         16466\n",
       "review_scores_rating                17262\n",
       "review_scores_accuracy              17375\n",
       "review_scores_cleanliness           17342\n",
       "review_scores_checkin               17430\n",
       "review_scores_communication         17344\n",
       "review_scores_location              17417\n",
       "review_scores_value                 17427\n",
       "requires_license                        0\n",
       "license                             53904\n",
       "jurisdiction_names                  53903\n",
       "instant_bookable                        0\n",
       "cancellation_policy                     0\n",
       "require_guest_profile_picture           0\n",
       "require_guest_phone_verification        0\n",
       "calculated_host_listings_count          0\n",
       "reviews_per_month                   16466\n",
       "Length: 95, dtype: int64"
      ]
     },
     "execution_count": 6,
     "metadata": {},
     "output_type": "execute_result"
    }
   ],
   "source": [
    "print \"Total size of the Dataset: \", listings.shape\n",
    "listings.apply(lambda x: sum(x.isnull()))"
   ]
  },
  {
   "cell_type": "markdown",
   "metadata": {},
   "source": [
    "<div style=\"text-align: justify\">\n",
    "Now we must select the columns that contain the features we will try to explore. It is recommended to use the features that have the least null values because dealing with the null values in the dataset can be really troublesome.\n",
    "</div>"
   ]
  },
  {
   "cell_type": "code",
   "execution_count": 7,
   "metadata": {},
   "outputs": [
    {
     "data": {
      "text/html": [
       "<div>\n",
       "<style>\n",
       "    .dataframe thead tr:only-child th {\n",
       "        text-align: right;\n",
       "    }\n",
       "\n",
       "    .dataframe thead th {\n",
       "        text-align: left;\n",
       "    }\n",
       "\n",
       "    .dataframe tbody tr th {\n",
       "        vertical-align: top;\n",
       "    }\n",
       "</style>\n",
       "<table border=\"1\" class=\"dataframe\">\n",
       "  <thead>\n",
       "    <tr style=\"text-align: right;\">\n",
       "      <th></th>\n",
       "      <th>name</th>\n",
       "      <th>neighbourhood</th>\n",
       "      <th>room_type</th>\n",
       "      <th>guests_included</th>\n",
       "      <th>minimum_nights</th>\n",
       "      <th>number_of_reviews</th>\n",
       "      <th>review_scores_rating</th>\n",
       "      <th>amenities</th>\n",
       "      <th>property_type</th>\n",
       "      <th>accommodates</th>\n",
       "      <th>bathrooms</th>\n",
       "      <th>bedrooms</th>\n",
       "      <th>beds</th>\n",
       "      <th>bed_type</th>\n",
       "      <th>price</th>\n",
       "    </tr>\n",
       "  </thead>\n",
       "  <tbody>\n",
       "    <tr>\n",
       "      <th>0</th>\n",
       "      <td>Double room in newly refurbished flat</td>\n",
       "      <td>Kingston upon Thames</td>\n",
       "      <td>Private room</td>\n",
       "      <td>1</td>\n",
       "      <td>7</td>\n",
       "      <td>1</td>\n",
       "      <td>100.0</td>\n",
       "      <td>{\"Wireless Internet\",Kitchen,Washer,\"Smoke det...</td>\n",
       "      <td>Apartment</td>\n",
       "      <td>1</td>\n",
       "      <td>1.0</td>\n",
       "      <td>1.0</td>\n",
       "      <td>1.0</td>\n",
       "      <td>Real Bed</td>\n",
       "      <td>$23.00</td>\n",
       "    </tr>\n",
       "    <tr>\n",
       "      <th>1</th>\n",
       "      <td>Modern room 25m from Central London</td>\n",
       "      <td>Kingston upon Thames</td>\n",
       "      <td>Private room</td>\n",
       "      <td>1</td>\n",
       "      <td>1</td>\n",
       "      <td>15</td>\n",
       "      <td>91.0</td>\n",
       "      <td>{TV,Internet,\"Wireless Internet\",\"Free parking...</td>\n",
       "      <td>Apartment</td>\n",
       "      <td>2</td>\n",
       "      <td>1.0</td>\n",
       "      <td>1.0</td>\n",
       "      <td>1.0</td>\n",
       "      <td>Pull-out Sofa</td>\n",
       "      <td>$50.00</td>\n",
       "    </tr>\n",
       "  </tbody>\n",
       "</table>\n",
       "</div>"
      ],
      "text/plain": [
       "                                    name         neighbourhood     room_type  \\\n",
       "0  Double room in newly refurbished flat  Kingston upon Thames  Private room   \n",
       "1    Modern room 25m from Central London  Kingston upon Thames  Private room   \n",
       "\n",
       "   guests_included  minimum_nights  number_of_reviews  review_scores_rating  \\\n",
       "0                1               7                  1                 100.0   \n",
       "1                1               1                 15                  91.0   \n",
       "\n",
       "                                           amenities property_type  \\\n",
       "0  {\"Wireless Internet\",Kitchen,Washer,\"Smoke det...     Apartment   \n",
       "1  {TV,Internet,\"Wireless Internet\",\"Free parking...     Apartment   \n",
       "\n",
       "   accommodates  bathrooms  bedrooms  beds       bed_type   price  \n",
       "0             1        1.0       1.0   1.0       Real Bed  $23.00  \n",
       "1             2        1.0       1.0   1.0  Pull-out Sofa  $50.00  "
      ]
     },
     "execution_count": 7,
     "metadata": {},
     "output_type": "execute_result"
    }
   ],
   "source": [
    "# We create an array with the features we want to keep.\n",
    "selected_features = ['name', 'neighbourhood_cleansed', 'room_type', 'guests_included', 'minimum_nights',\n",
    "                     'number_of_reviews', 'review_scores_rating', 'amenities', 'property_type',\n",
    "                     'accommodates', 'bathrooms', 'bedrooms', 'beds', 'bed_type', 'price']\n",
    "selected_listings = listings.copy()[selected_features]\n",
    "selected_listings.rename(columns = {'neighbourhood_cleansed':'neighbourhood'}, inplace = True)\n",
    "selected_listings[:2]"
   ]
  },
  {
   "cell_type": "markdown",
   "metadata": {},
   "source": [
    "So, let's verify that the features we selected do not have a majority of invalid values. You can use the same method that we used at the begining of the section."
   ]
  },
  {
   "cell_type": "code",
   "execution_count": 8,
   "metadata": {},
   "outputs": [
    {
     "name": "stdout",
     "output_type": "stream",
     "text": [
      "Counting missing features values...\n"
     ]
    },
    {
     "data": {
      "text/plain": [
       "name                        1\n",
       "neighbourhood               0\n",
       "room_type                   0\n",
       "guests_included             0\n",
       "minimum_nights              0\n",
       "number_of_reviews           0\n",
       "review_scores_rating    17262\n",
       "amenities                   0\n",
       "property_type               0\n",
       "accommodates                0\n",
       "bathrooms                 260\n",
       "bedrooms                   93\n",
       "beds                      173\n",
       "bed_type                    0\n",
       "price                       0\n",
       "dtype: int64"
      ]
     },
     "execution_count": 8,
     "metadata": {},
     "output_type": "execute_result"
    }
   ],
   "source": [
    "print \"Counting missing features values...\"\n",
    "selected_listings.apply(lambda x: sum(x.isnull()))"
   ]
  },
  {
   "cell_type": "markdown",
   "metadata": {},
   "source": [
    "Since the price is not in a purely numeric format. We need to remove the dolar sign at the start of the price, to use this feature in our model."
   ]
  },
  {
   "cell_type": "code",
   "execution_count": 8,
   "metadata": {},
   "outputs": [
    {
     "data": {
      "text/plain": [
       "count    53904.000000\n",
       "mean        96.099622\n",
       "std        117.641082\n",
       "min          8.000000\n",
       "25%         42.000000\n",
       "50%         70.000000\n",
       "75%        119.000000\n",
       "max       7000.000000\n",
       "Name: price, dtype: float64"
      ]
     },
     "execution_count": 8,
     "metadata": {},
     "output_type": "execute_result"
    }
   ],
   "source": [
    "prices = selected_listings['price'].map(lambda p: int(p[1:-3].replace(\",\", \"\")))\n",
    "selected_listings['price'] = prices\n",
    "selected_listings['price'].describe()"
   ]
  },
  {
   "cell_type": "markdown",
   "metadata": {},
   "source": [
    "<div style=\"text-align: justify\">\n",
    "Additionally to the price transformation, we displayed the statistic properties of the prices distribution using the built-in pandas method describe(). This method shows properties such as the mean, standard deviation, percentiles, etc. This information can provide some insight of the prices statistical distribution.\n",
    "</div>"
   ]
  },
  {
   "cell_type": "markdown",
   "metadata": {},
   "source": [
    "<div style=\"text-align: justify\">\n",
    "Now we are going to analize some of the features of the data to gain some insight about the price we are trying to model. The following graphic displays the swarmplot of a sample of the prices. This plot show a categorical scatterplot with non overlaping data points. This means that the graphic consist in selecting a random sample of prices and plotting them in the vertical axis, the horizontal axis indicates the quantity of non repeated prices that fall in the specific price range.\n",
    "</div>"
   ]
  },
  {
   "cell_type": "code",
   "execution_count": 8,
   "metadata": {},
   "outputs": [
    {
     "data": {
      "image/png": "[encoded data removed]",
      "text/plain": [
       "<matplotlib.figure.Figure at 0x7fe11f604190>"
      ]
     },
     "metadata": {},
     "output_type": "display_data"
    }
   ],
   "source": [
    "sns.swarmplot(y=prices.sample(300))\n",
    "plt.show()"
   ]
  },
  {
   "cell_type": "markdown",
   "metadata": {
    "collapsed": true
   },
   "source": [
    "### 2.1 Exploring the relation between price and the features"
   ]
  },
  {
   "cell_type": "markdown",
   "metadata": {},
   "source": [
    "We can use boxplots to measure the spread of the prices distribution across the different nighbourhoods. Since the neighbourhood has an intuitive relationship with the price of the room."
   ]
  },
  {
   "cell_type": "code",
   "execution_count": 11,
   "metadata": {},
   "outputs": [
    {
     "data": {
      "image/png": "[encoded data removed]",
      "text/plain": [
       "<matplotlib.figure.Figure at 0x7f9276b47410>"
      ]
     },
     "metadata": {},
     "output_type": "display_data"
    }
   ],
   "source": [
    "price_neighbourhood = selected_listings.query('price <= 500')\\\n",
    "                    .groupby('neighbourhood')['price']\\\n",
    "                    .median()\\\n",
    "                    .sort_values(ascending=False)\\\n",
    "                    .index\n",
    "                \n",
    "data = selected_listings.query('price <= 500')\n",
    "\n",
    "sns.boxplot(y=data['price'], x=data['neighbourhood'], order=price_neighbourhood)\n",
    "\n",
    "ax = plt.gca()\n",
    "ax.set_xticklabels(ax.get_xticklabels(), rotation=90, ha='right')\n",
    "plt.show()"
   ]
  },
  {
   "cell_type": "markdown",
   "metadata": {},
   "source": [
    "<div style=\"text-align: justify\">\n",
    "The box plot of the price and the neighbourhood is really interesting since it allows to clearly see the prices distribution according to the neighbourhood. From this graph, we can determine which are the most affordable neighbourhoods and the most exclusive ones. Also since the neighbourhoods split the prices distributions in a consistent way, this could mean that this feature will be of importance to the model.\n",
    "</div>"
   ]
  },
  {
   "cell_type": "markdown",
   "metadata": {},
   "source": [
    "<div style=\"text-align: justify\">\n",
    "In the same way. We can analyze the spread of the prices distribution according to other features, like the room type. This help us to determine the features that split the data in the best way to achieve a decent predictive model. In the following snippet, we generate a boxplot of the prices in relation to the __room_type__ categories.\n",
    "</div>"
   ]
  },
  {
   "cell_type": "code",
   "execution_count": 83,
   "metadata": {},
   "outputs": [
    {
     "data": {
      "image/png": "[encoded data removed]",
      "text/plain": [
       "<matplotlib.figure.Figure at 0x7f0d7889a490>"
      ]
     },
     "metadata": {},
     "output_type": "display_data"
    }
   ],
   "source": [
    "room_price = selected_listings.query('price <= 500')\\\n",
    "                    .groupby('room_type')['price']\\\n",
    "                    .median()\\\n",
    "                    .sort_values(ascending=False)\\\n",
    "                    .index\n",
    "                \n",
    "data = selected_listings.query('price <= 500')\n",
    "\n",
    "sns.boxplot(y=data['price'], x=data['room_type'], order=room_price)\n",
    "plt.show()"
   ]
  },
  {
   "cell_type": "markdown",
   "metadata": {},
   "source": [
    "<div style=\"text-align: justify\">\n",
    "Another interesting observation comes from the room_type / price box plot. We can see that is considerably more expensive to rent an entire home or apartment compared to renting a private room or shared room. However, the difference in prices between private and shared rooms is not that much, so one could consider a private room most of the time.\n",
    "</div>"
   ]
  },
  {
   "cell_type": "markdown",
   "metadata": {},
   "source": [
    "<div style=\"text-align: justify\">\n",
    "In addition to the previous features we are also going to explore the amenities feature, the amenities could be a differentiator factor. So, in order to start working with this feature, we must extract the information first. For this task, regular expressions come in handy. First, we remove the curly braces from the amenities JSON like string. Then we remove the amenities that start with _translation_ because this amenities are not properly translated and are not usable in this context.\n",
    "</div>"
   ]
  },
  {
   "cell_type": "code",
   "execution_count": 9,
   "metadata": {},
   "outputs": [
    {
     "name": "stdout",
     "output_type": "stream",
     "text": [
      "CPU times: user 388 ms, sys: 24 ms, total: 412 ms\n",
      "Wall time: 395 ms\n"
     ]
    }
   ],
   "source": [
    "%%time\n",
    "regex = r\"{([^}]*)}\"\n",
    "regex2 = r\"translation.\\w\\D+..\"\n",
    "listings_cp = selected_listings.copy()\n",
    "listings_cp['amenities'] = listings_cp['amenities'].map(lambda amns: re.search(regex, amns).group(1))\n",
    "listings_cp['amenities'] = listings_cp['amenities'].map(lambda amns: re.sub(regex2, '', amns))\n",
    "listings_cp['amenities'] = listings_cp['amenities'].map(lambda amns: amns.replace(\"\\\"\", \"\"))"
   ]
  },
  {
   "cell_type": "markdown",
   "metadata": {},
   "source": [
    "<div style=\"text-align: justify\">\n",
    "Now we must represent this list of amenities in a column-like format in order to use them as predictors in the regression algorithm. We can easily achieve this using pandas built-in function **get_dummies**. This method returns the one hot encoding of the list of amenities, this encoding represents the absence or presence of an amenity as a zero or one in a column. However, we are not going to add this newly engineered feature to the dataset just yet, because for this workshop is more practical to work with features that are available easily.\n",
    "</div>"
   ]
  },
  {
   "cell_type": "code",
   "execution_count": 13,
   "metadata": {
    "collapsed": true
   },
   "outputs": [],
   "source": [
    "# The code for adding the amenities colums is currently commented for practicality\n",
    "amenity_ohe = listings_cp.amenities.str.get_dummies(sep = \",\")\n",
    "amenities_cols = amenity_ohe.columns.values\n",
    "# dataset = pd.concat([listings_cp, amenity_ohe], axis=1)\n",
    "dataset = listings_cp.query('price <= 500')\n",
    "dataset = dataset.drop('amenities', axis=1)\n",
    "dataset = dataset.drop('name', axis=1)"
   ]
  },
  {
   "cell_type": "markdown",
   "metadata": {},
   "source": [
    "### 2.2 Handling null values"
   ]
  },
  {
   "cell_type": "markdown",
   "metadata": {},
   "source": [
    "<div style=\"text-align: justify\">\n",
    "Since there are still empty values in some columns of our data. We must find a way to deal with this missing data. One option is to simply drop the column that presents the null values or drop the rows with the empty values. This dataset does not contain a lot of records, so we can't afford to lose much information. So, a technique for handling null values in continuos numeric features is replacing the null values with the median of the values for that feature. \n",
    "Replacing the missing values with the median of the feature's values allows keeping the information while it does not affect greatly the statistical distribution of the feature.\n",
    "</div>"
   ]
  },
  {
   "cell_type": "code",
   "execution_count": 14,
   "metadata": {
    "collapsed": true
   },
   "outputs": [],
   "source": [
    "# The numeric features that present null values are: review_scores_rating, bathrooms, bedrooms\n",
    "# and beds\n",
    "dataset['review_scores_rating'] = dataset['review_scores_rating'].fillna(dataset['review_scores_rating'].median())\n",
    "dataset['bathrooms'] = dataset['bathrooms'].fillna(dataset['bathrooms'].median())\n",
    "dataset['bedrooms'] = dataset['bedrooms'].fillna(dataset['bedrooms'].median())\n",
    "dataset['beds'] = dataset['beds'].fillna(dataset['beds'].median())"
   ]
  },
  {
   "cell_type": "code",
   "execution_count": 16,
   "metadata": {},
   "outputs": [
    {
     "name": "stdout",
     "output_type": "stream",
     "text": [
      "Displaying amenities count...\n"
     ]
    },
    {
     "data": {
      "text/plain": [
       "Wireless Internet             50980\n",
       "Heating                       50648\n",
       "Kitchen                       49553\n",
       "Essentials                    45165\n",
       "Washer                        44839\n",
       "Smoke detector                41835\n",
       "TV                            35863\n",
       "Internet                      32610\n",
       "Hangers                       32475\n",
       "Iron                          31839\n",
       "Shampoo                       30836\n",
       "Family/kid friendly           28707\n",
       "Hair dryer                    28554\n",
       "Laptop friendly workspace     25890\n",
       "Carbon monoxide detector      24807\n",
       "Dryer                         23136\n",
       "First aid kit                 15331\n",
       "Buzzer/wireless intercom      14895\n",
       "Fire extinguisher             14171\n",
       "Elevator in building          12426\n",
       "Free parking on premises      12400\n",
       "24-hour check-in              12098\n",
       "Cable TV                      10719\n",
       "Breakfast                      8271\n",
       "Lock on bedroom door           6834\n",
       "Safety card                    6485\n",
       "Indoor fireplace               4854\n",
       "Smoking allowed                4418\n",
       "Pets allowed                   4292\n",
       "Pets live on this property     3956\n",
       "Hot tub                        3894\n",
       "Wheelchair accessible          3438\n",
       "Air conditioning               2815\n",
       "Cat(s)                         2206\n",
       "Self Check-In                  2193\n",
       "Doorman                        2056\n",
       "Gym                            1724\n",
       "Lockbox                        1664\n",
       "Private entrance               1646\n",
       "Suitable for events            1611\n",
       "Dog(s)                         1203\n",
       "Private living room             694\n",
       "Pool                            409\n",
       "Doorman Entry                   305\n",
       "Keypad                          155\n",
       "Other pet(s)                    144\n",
       "Smartlock                        98\n",
       "Washer / Dryer                   44\n",
       "Free parking on street           37\n",
       "Paid parking off premises        24\n",
       "dtype: int64"
      ]
     },
     "execution_count": 16,
     "metadata": {},
     "output_type": "execute_result"
    }
   ],
   "source": [
    "# Displaying the top amenities\n",
    "print \"Displaying amenities count...\"\n",
    "amenity_ohe[amenities_cols].apply(lambda x: sum(x == 1)).sort_values(ascending=False)"
   ]
  },
  {
   "cell_type": "markdown",
   "metadata": {},
   "source": [
    "### 2.3 Encoding Categorical Features"
   ]
  },
  {
   "cell_type": "markdown",
   "metadata": {},
   "source": [
    "<div style=\"text-align: justify\">\n",
    "To start working with machine learning algorithms we need to find a way to represent non-numeric features (i.e. Categorical features such as __room_type__ or __neighbourhood__) in a numeric format that an algorithm could \"understand\". This is called **feature encoding** and allows us to do exactly that. There are a lot of encoding techniques but we are going to use one of the simplest, that is **Label Encoding** and it simply transforms a category label to an integer value and stores that representation on a map. \n",
    "</div>"
   ]
  },
  {
   "cell_type": "code",
   "execution_count": 17,
   "metadata": {},
   "outputs": [
    {
     "name": "stdout",
     "output_type": "stream",
     "text": [
      "CPU times: user 148 ms, sys: 0 ns, total: 148 ms\n",
      "Wall time: 145 ms\n"
     ]
    }
   ],
   "source": [
    "%%time\n",
    "# Instantiate the LabelEncoder as a default dictionary to handle several columns at once\n",
    "d = defaultdict(preprocessing.LabelEncoder)\n",
    "cat_columns = ['neighbourhood', 'room_type', 'property_type', 'bed_type']\n",
    "encoded_dataset = dataset.apply(\n",
    "    lambda x: d[x.name].fit_transform(x) if x.name in cat_columns else x)"
   ]
  },
  {
   "cell_type": "markdown",
   "metadata": {},
   "source": [
    "<div style=\"text-align: justify\">\n",
    "Now if we display some rows of the dataset, we can notice that now every feature is numeric. We did that using the previous cell code, that allowed us to encode the string labels of the feature to numeric correspondent equivalent. So, we are able to use this dataset with a machine learning algorithm to run our predictions.\n",
    "</div>"
   ]
  },
  {
   "cell_type": "code",
   "execution_count": 18,
   "metadata": {},
   "outputs": [
    {
     "data": {
      "text/html": [
       "<div>\n",
       "<style>\n",
       "    .dataframe thead tr:only-child th {\n",
       "        text-align: right;\n",
       "    }\n",
       "\n",
       "    .dataframe thead th {\n",
       "        text-align: left;\n",
       "    }\n",
       "\n",
       "    .dataframe tbody tr th {\n",
       "        vertical-align: top;\n",
       "    }\n",
       "</style>\n",
       "<table border=\"1\" class=\"dataframe\">\n",
       "  <thead>\n",
       "    <tr style=\"text-align: right;\">\n",
       "      <th></th>\n",
       "      <th>neighbourhood</th>\n",
       "      <th>room_type</th>\n",
       "      <th>guests_included</th>\n",
       "      <th>minimum_nights</th>\n",
       "      <th>number_of_reviews</th>\n",
       "      <th>review_scores_rating</th>\n",
       "      <th>property_type</th>\n",
       "      <th>accommodates</th>\n",
       "      <th>bathrooms</th>\n",
       "      <th>bedrooms</th>\n",
       "      <th>beds</th>\n",
       "      <th>bed_type</th>\n",
       "      <th>price</th>\n",
       "    </tr>\n",
       "  </thead>\n",
       "  <tbody>\n",
       "    <tr>\n",
       "      <th>0</th>\n",
       "      <td>20</td>\n",
       "      <td>1</td>\n",
       "      <td>1</td>\n",
       "      <td>7</td>\n",
       "      <td>1</td>\n",
       "      <td>100.0</td>\n",
       "      <td>0</td>\n",
       "      <td>1</td>\n",
       "      <td>1.0</td>\n",
       "      <td>1.0</td>\n",
       "      <td>1.0</td>\n",
       "      <td>4</td>\n",
       "      <td>23</td>\n",
       "    </tr>\n",
       "    <tr>\n",
       "      <th>1</th>\n",
       "      <td>20</td>\n",
       "      <td>1</td>\n",
       "      <td>1</td>\n",
       "      <td>1</td>\n",
       "      <td>15</td>\n",
       "      <td>91.0</td>\n",
       "      <td>0</td>\n",
       "      <td>2</td>\n",
       "      <td>1.0</td>\n",
       "      <td>1.0</td>\n",
       "      <td>1.0</td>\n",
       "      <td>3</td>\n",
       "      <td>50</td>\n",
       "    </tr>\n",
       "    <tr>\n",
       "      <th>2</th>\n",
       "      <td>20</td>\n",
       "      <td>1</td>\n",
       "      <td>1</td>\n",
       "      <td>1</td>\n",
       "      <td>2</td>\n",
       "      <td>80.0</td>\n",
       "      <td>0</td>\n",
       "      <td>2</td>\n",
       "      <td>1.0</td>\n",
       "      <td>1.0</td>\n",
       "      <td>1.0</td>\n",
       "      <td>4</td>\n",
       "      <td>24</td>\n",
       "    </tr>\n",
       "    <tr>\n",
       "      <th>3</th>\n",
       "      <td>20</td>\n",
       "      <td>1</td>\n",
       "      <td>1</td>\n",
       "      <td>2</td>\n",
       "      <td>0</td>\n",
       "      <td>94.0</td>\n",
       "      <td>14</td>\n",
       "      <td>2</td>\n",
       "      <td>1.5</td>\n",
       "      <td>1.0</td>\n",
       "      <td>1.0</td>\n",
       "      <td>4</td>\n",
       "      <td>50</td>\n",
       "    </tr>\n",
       "    <tr>\n",
       "      <th>4</th>\n",
       "      <td>20</td>\n",
       "      <td>1</td>\n",
       "      <td>1</td>\n",
       "      <td>1</td>\n",
       "      <td>0</td>\n",
       "      <td>94.0</td>\n",
       "      <td>14</td>\n",
       "      <td>1</td>\n",
       "      <td>1.0</td>\n",
       "      <td>1.0</td>\n",
       "      <td>1.0</td>\n",
       "      <td>4</td>\n",
       "      <td>25</td>\n",
       "    </tr>\n",
       "  </tbody>\n",
       "</table>\n",
       "</div>"
      ],
      "text/plain": [
       "   neighbourhood  room_type  guests_included  minimum_nights  \\\n",
       "0             20          1                1               7   \n",
       "1             20          1                1               1   \n",
       "2             20          1                1               1   \n",
       "3             20          1                1               2   \n",
       "4             20          1                1               1   \n",
       "\n",
       "   number_of_reviews  review_scores_rating  property_type  accommodates  \\\n",
       "0                  1                 100.0              0             1   \n",
       "1                 15                  91.0              0             2   \n",
       "2                  2                  80.0              0             2   \n",
       "3                  0                  94.0             14             2   \n",
       "4                  0                  94.0             14             1   \n",
       "\n",
       "   bathrooms  bedrooms  beds  bed_type  price  \n",
       "0        1.0       1.0   1.0         4     23  \n",
       "1        1.0       1.0   1.0         3     50  \n",
       "2        1.0       1.0   1.0         4     24  \n",
       "3        1.5       1.0   1.0         4     50  \n",
       "4        1.0       1.0   1.0         4     25  "
      ]
     },
     "execution_count": 18,
     "metadata": {},
     "output_type": "execute_result"
    }
   ],
   "source": [
    "encoded_dataset.head()"
   ]
  },
  {
   "cell_type": "markdown",
   "metadata": {
    "collapsed": true
   },
   "source": [
    "## 3. Spliting the dataset into Training, Validation and Testing"
   ]
  },
  {
   "cell_type": "markdown",
   "metadata": {},
   "source": [
    "<div style=\"text-align: justify\">\n",
    "In this section, we are going to split our current dataset into three different datasets. This with the purpose of correctly train and validate our predictive model. The first dataset is the training dataset which allows us to train a regression model based on the data available in this dataset. Second, we have the validation dataset, which is a subset extracted from the training dataset and it is used for tuning the parameters of the model with reduced overfitting risk (since we are not tuning based on the training data). Finally, we have the testing dataset, likewise the validation dataset. It contains data the model have not seen and is used to validate the accuracy of the model on unseen data, the testing score of our model is the ground truth of how good it is.\n",
    "</div>"
   ]
  },
  {
   "cell_type": "code",
   "execution_count": 20,
   "metadata": {},
   "outputs": [
    {
     "name": "stdout",
     "output_type": "stream",
     "text": [
      "Dataset Size:  (53594, 13)\n",
      "Training Dataset Size:  (38587, 13)\n",
      "Validation Dataset Size:  (9647, 13)\n",
      "Testing Dataset Size:  (5360, 13)\n"
     ]
    }
   ],
   "source": [
    "training_dataset, testing = train_test_split(encoded_dataset, test_size=0.1, random_state=8)\n",
    "training, validation = train_test_split(training_dataset, test_size=0.2, random_state=8)\n",
    "\n",
    "\n",
    "print \"Dataset Size: \", encoded_dataset.shape\n",
    "print \"Training Dataset Size: \", training.shape\n",
    "print \"Validation Dataset Size: \", validation.shape\n",
    "print \"Testing Dataset Size: \", testing.shape"
   ]
  },
  {
   "cell_type": "markdown",
   "metadata": {},
   "source": [
    "## 4. Methods for model Training and Validation"
   ]
  },
  {
   "cell_type": "markdown",
   "metadata": {},
   "source": [
    "<div style=\"text-align: justify\">\n",
    "We now have the datasets we need to start training our model, but first we need to define some helper methods we are going to need for the model training and validation. You don't need to understand each line of code, you just need to know what the function does.<br><br>\n",
    "</div>\n",
    "\n",
    "* __fit_model__: This function takes as arguments and isntance of the regression algorithm you choose (from the sklearn available regression algorithms), the training and validation dataset and some default parameters. This function trains the model and predicts the validation dataset to calculate and display the model accuracy using other helper methods.<br><br>\n",
    "\n",
    "* __model_report__: This function takes the predictions from the trained model and prints the score and metrics for the model. The displayed metrics include the mean absolute error, root mean square error and R2 score, for both the training and validation predictions.<br><br>\n",
    "\n",
    "* __evaluate_cross_validation__: This method runs an statistic cross-validation using the K-Fold technique for evaluating the training accuracy of the model and avoid overfitting.<br><br>\n",
    "\n",
    "* __grid_search__: This function allows to search exaustively the best parameters to reduce the error of the model. This method trains the model with every posible combination from a parameter dictionary and return the parameters that reduce the error the most. However, we only use this since the dataset is really small. It is recommended to use __RandomSearch__ since is way faster and it usually finds parameters within the same accuracy of the __GridSearch__.<br><br>\n"
   ]
  },
  {
   "cell_type": "code",
   "execution_count": 21,
   "metadata": {
    "collapsed": true
   },
   "outputs": [],
   "source": [
    "def fit_model(model, training, validation, cross_val=False, cv_folds=5):\n",
    "    predictors = [x for x in training.columns if x not in ['price']]\n",
    "    model.fit(training[predictors], training['price'])\n",
    "    #Predict values:\n",
    "    training_predictions = model.predict(training[predictors])\n",
    "    validation_predictions = model.predict(validation[predictors])\n",
    "    model_report(training, validation, training_predictions, validation_predictions)\n",
    "\n",
    "    if cross_val:\n",
    "        evaluate_cross_validation(model, training, cv_folds)\n",
    "\n",
    "def model_report(training, validation, training_predictions, validation_predictions):\n",
    "    #Print model report:\n",
    "    print \"\\nModel Report\"\n",
    "    print \"Training\"\n",
    "    print \"Mean Absolute Error : %.4g\" % mean_absolute_error(training['price'].values, training_predictions)\n",
    "    print \"Root Mean Squared Error : %.4g\" % np.sqrt(mean_squared_error(training['price'].values, training_predictions))\n",
    "    print \"R2 Score: %4f\" % r2_score(training['price'].values, training_predictions)\n",
    "    print \"\\n\"\n",
    "    print \"Validation\"\n",
    "    print \"Mean Absolute Error : %.4g\" % mean_absolute_error(validation['price'].values, validation_predictions)\n",
    "    print \"Root Mean Squared Error : %.4g\" % np.sqrt(mean_squared_error(validation['price'].values, validation_predictions))\n",
    "    print \"R2 Score: %4f\" % r2_score(validation['price'].values, validation_predictions)\n",
    "    \n",
    "def evaluate_cross_validation(model, training, K):\n",
    "    predictors = [x for x in training.columns if x not in ['price']]\n",
    "    cv = KFold(n_splits=K, shuffle=True, random_state=2)\n",
    "    scores = cross_val_score(model, training[predictors], training['price'], cv=cv)\n",
    "    print \"\"\n",
    "    print(scores)\n",
    "    print(\"Mean score: {0:.3f} (+/-{1:.3f})\".format(scores.mean(), scores.std()))\n",
    "    \n",
    "def grid_search(model, param_grid, training, validation, cv):\n",
    "    predictors = [x for x in training.columns if x not in ['price']]\n",
    "    grid_search = GridSearchCV(model, param_grid, scoring=\"neg_mean_squared_error\", n_jobs=2, cv=cv)\n",
    "    grid_result = grid_search.fit(training[predictors], training['price'])\n",
    "\n",
    "    # summarize results\n",
    "    print(\"Best: %f using %s\" % (grid_result.best_score_, grid_result.best_params_))\n",
    "    means = grid_result.cv_results_['mean_test_score']\n",
    "    stds = grid_result.cv_results_['std_test_score']\n",
    "    params = grid_result.cv_results_['params']\n",
    "    for mean, stdev, param in zip(means, stds, params):\n",
    "        print(\"%f (%f) with: %r\" % (mean, stdev, param))\n",
    "\n",
    "    validation_predictions = grid_result.predict(validation[predictors])\n",
    "\n",
    "    print \"Validation\"\n",
    "    print \"Mean Absolute Error : %.4g\" % mean_absolute_error(validation['price'].values, validation_predictions)\n",
    "    print \"Root Mean Squared Error : %.4g\" % np.sqrt(mean_squared_error(validation['price'].values, validation_predictions))\n",
    "    print \"R2 Score: %4f\" % r2_score(validation['price'].values, validation_predictions)"
   ]
  },
  {
   "cell_type": "markdown",
   "metadata": {},
   "source": [
    "## 5. Model Training"
   ]
  },
  {
   "cell_type": "markdown",
   "metadata": {},
   "source": [
    "### 5.1 Baseline Model"
   ]
  },
  {
   "cell_type": "markdown",
   "metadata": {},
   "source": [
    "<div style=\"text-align: justify\">\n",
    "With the helper methods implemented it is time to start training our model. We are going to use the __DecisionTree__ regression algorithm since this is a well-known algorithm and allows to make human understandable decisions. Since we need a reference point to the later parameter tuning, we are going to train the model with the default parameters without optimizing anything. This will serve as our baseline model to compare when we optimize the parameters.\n",
    "</div>"
   ]
  },
  {
   "cell_type": "code",
   "execution_count": 22,
   "metadata": {},
   "outputs": [
    {
     "name": "stdout",
     "output_type": "stream",
     "text": [
      "\n",
      "Model Report\n",
      "Training\n",
      "Mean Absolute Error : 4.958\n",
      "Root Mean Squared Error : 15.83\n",
      "R2 Score: 0.948473\n",
      "\n",
      "\n",
      "Validation\n",
      "Mean Absolute Error : 34.46\n",
      "Root Mean Squared Error : 56.69\n",
      "R2 Score: 0.362835\n",
      "\n",
      "[ 0.31224009  0.31760144  0.31410616  0.33396205  0.3357505 ]\n",
      "Mean score: 0.323 (+/-0.010)\n",
      "CPU times: user 828 ms, sys: 0 ns, total: 828 ms\n",
      "Wall time: 826 ms\n"
     ]
    }
   ],
   "source": [
    "%%time\n",
    "predictors = [x for x in training.columns if x not in ['price']]\n",
    "decision_tree = DecisionTreeRegressor(random_state=8)\n",
    "fit_model(decision_tree, training, validation, cross_val=True)"
   ]
  },
  {
   "cell_type": "markdown",
   "metadata": {},
   "source": [
    "<div style=\"text-align: justify\">\n",
    "The decision tree algorithm allows to see the feature importance for the model. Let's check it to see if our observation actually were represented in the model.\n",
    "</div>"
   ]
  },
  {
   "cell_type": "code",
   "execution_count": 23,
   "metadata": {},
   "outputs": [
    {
     "name": "stdout",
     "output_type": "stream",
     "text": [
      "bedrooms                0.409726\n",
      "neighbourhood           0.101982\n",
      "room_type               0.097030\n",
      "bathrooms               0.094603\n",
      "number_of_reviews       0.063219\n",
      "minimum_nights          0.061639\n",
      "accommodates            0.052179\n",
      "review_scores_rating    0.045952\n",
      "beds                    0.027474\n",
      "guests_included         0.023312\n",
      "property_type           0.020435\n",
      "bed_type                0.002450\n",
      "dtype: float64\n"
     ]
    }
   ],
   "source": [
    "#Create a series with feature importances:\n",
    "feat_importance = pd.Series(decision_tree.feature_importances_, index=predictors).sort_values(ascending=False)\n",
    "print(feat_importance)"
   ]
  },
  {
   "cell_type": "markdown",
   "metadata": {},
   "source": [
    "<div style=\"text-align: justify\">\n",
    "We can see that the most important feature for the model is the number of bedrooms, followed by the neighbourhood and the room_type. The __room_type__ and the __neighbourhood__ are among the features we analyzed and they were indeed important for the model.\n",
    "</div>"
   ]
  },
  {
   "cell_type": "markdown",
   "metadata": {},
   "source": [
    "### 5.2 Finding the optimal parameters using Grid Search"
   ]
  },
  {
   "cell_type": "markdown",
   "metadata": {},
   "source": [
    "<div style=\"text-align: justify\">\n",
    "Now with the baseline model trained we can move to the optimization of the model parameters using __GridSearch__, with decision trees, the parameters we can tune are: **max_depth** (Maximum tree depth), **max_features** (Maximum number of features to consider when spliting a node), **min_samples_leaf** (Minimum number of samples in a node to be considered a leaf, otherwise the tree keeps expanding the node). <br><br>\n",
    "\n",
    "The grid search will try every combination of the parameters and with the result we can train a model with the optimal parameters that minimize the mean error.\n",
    "</div>"
   ]
  },
  {
   "cell_type": "code",
   "execution_count": 31,
   "metadata": {},
   "outputs": [
    {
     "name": "stdout",
     "output_type": "stream",
     "text": [
      "Best: -1906.634051 using {'max_features': 'auto', 'max_depth': 20, 'min_samples_leaf': 50}\n",
      "-2412.007212 (37.070562) with: {'max_features': 'log2', 'max_depth': 5, 'min_samples_leaf': 10}\n",
      "-2415.111176 (41.787327) with: {'max_features': 'log2', 'max_depth': 5, 'min_samples_leaf': 50}\n",
      "-2421.684311 (40.603313) with: {'max_features': 'log2', 'max_depth': 5, 'min_samples_leaf': 70}\n",
      "-2432.668975 (34.135353) with: {'max_features': 'log2', 'max_depth': 5, 'min_samples_leaf': 100}\n",
      "-2412.007212 (37.070562) with: {'max_features': 'sqrt', 'max_depth': 5, 'min_samples_leaf': 10}\n",
      "-2415.111176 (41.787327) with: {'max_features': 'sqrt', 'max_depth': 5, 'min_samples_leaf': 50}\n",
      "-2421.684311 (40.603313) with: {'max_features': 'sqrt', 'max_depth': 5, 'min_samples_leaf': 70}\n",
      "-2432.668975 (34.135353) with: {'max_features': 'sqrt', 'max_depth': 5, 'min_samples_leaf': 100}\n",
      "-2084.216944 (49.564256) with: {'max_features': 'auto', 'max_depth': 5, 'min_samples_leaf': 10}\n",
      "-2078.209785 (48.150325) with: {'max_features': 'auto', 'max_depth': 5, 'min_samples_leaf': 50}\n",
      "-2075.959793 (47.285518) with: {'max_features': 'auto', 'max_depth': 5, 'min_samples_leaf': 70}\n",
      "-2079.960424 (49.622828) with: {'max_features': 'auto', 'max_depth': 5, 'min_samples_leaf': 100}\n",
      "-2118.509545 (36.115199) with: {'max_features': 'log2', 'max_depth': 10, 'min_samples_leaf': 10}\n",
      "-2136.309705 (60.516950) with: {'max_features': 'log2', 'max_depth': 10, 'min_samples_leaf': 50}\n",
      "-2150.794091 (69.266800) with: {'max_features': 'log2', 'max_depth': 10, 'min_samples_leaf': 70}\n",
      "-2178.295921 (26.349939) with: {'max_features': 'log2', 'max_depth': 10, 'min_samples_leaf': 100}\n",
      "-2118.509545 (36.115199) with: {'max_features': 'sqrt', 'max_depth': 10, 'min_samples_leaf': 10}\n",
      "-2136.309705 (60.516950) with: {'max_features': 'sqrt', 'max_depth': 10, 'min_samples_leaf': 50}\n",
      "-2150.794091 (69.266800) with: {'max_features': 'sqrt', 'max_depth': 10, 'min_samples_leaf': 70}\n",
      "-2178.295921 (26.349939) with: {'max_features': 'sqrt', 'max_depth': 10, 'min_samples_leaf': 100}\n",
      "-1957.192527 (51.025231) with: {'max_features': 'auto', 'max_depth': 10, 'min_samples_leaf': 10}\n",
      "-1922.025143 (57.173196) with: {'max_features': 'auto', 'max_depth': 10, 'min_samples_leaf': 50}\n",
      "-1924.249488 (52.622234) with: {'max_features': 'auto', 'max_depth': 10, 'min_samples_leaf': 70}\n",
      "-1952.953607 (51.504336) with: {'max_features': 'auto', 'max_depth': 10, 'min_samples_leaf': 100}\n",
      "-2121.338622 (68.641209) with: {'max_features': 'log2', 'max_depth': 15, 'min_samples_leaf': 10}\n",
      "-2074.574282 (75.991235) with: {'max_features': 'log2', 'max_depth': 15, 'min_samples_leaf': 50}\n",
      "-2121.451017 (66.395256) with: {'max_features': 'log2', 'max_depth': 15, 'min_samples_leaf': 70}\n",
      "-2168.043352 (52.525822) with: {'max_features': 'log2', 'max_depth': 15, 'min_samples_leaf': 100}\n",
      "-2121.338622 (68.641209) with: {'max_features': 'sqrt', 'max_depth': 15, 'min_samples_leaf': 10}\n",
      "-2074.574282 (75.991235) with: {'max_features': 'sqrt', 'max_depth': 15, 'min_samples_leaf': 50}\n",
      "-2121.451017 (66.395256) with: {'max_features': 'sqrt', 'max_depth': 15, 'min_samples_leaf': 70}\n",
      "-2168.043352 (52.525822) with: {'max_features': 'sqrt', 'max_depth': 15, 'min_samples_leaf': 100}\n",
      "-2013.821137 (34.550375) with: {'max_features': 'auto', 'max_depth': 15, 'min_samples_leaf': 10}\n",
      "-1906.815079 (56.345870) with: {'max_features': 'auto', 'max_depth': 15, 'min_samples_leaf': 50}\n",
      "-1916.291438 (51.639660) with: {'max_features': 'auto', 'max_depth': 15, 'min_samples_leaf': 70}\n",
      "-1946.282897 (49.381595) with: {'max_features': 'auto', 'max_depth': 15, 'min_samples_leaf': 100}\n",
      "-2074.876069 (57.704991) with: {'max_features': 'log2', 'max_depth': 20, 'min_samples_leaf': 10}\n",
      "-2092.349638 (39.183529) with: {'max_features': 'log2', 'max_depth': 20, 'min_samples_leaf': 50}\n",
      "-2116.922475 (62.906393) with: {'max_features': 'log2', 'max_depth': 20, 'min_samples_leaf': 70}\n",
      "-2141.752899 (54.456308) with: {'max_features': 'log2', 'max_depth': 20, 'min_samples_leaf': 100}\n",
      "-2074.876069 (57.704991) with: {'max_features': 'sqrt', 'max_depth': 20, 'min_samples_leaf': 10}\n",
      "-2092.349638 (39.183529) with: {'max_features': 'sqrt', 'max_depth': 20, 'min_samples_leaf': 50}\n",
      "-2116.922475 (62.906393) with: {'max_features': 'sqrt', 'max_depth': 20, 'min_samples_leaf': 70}\n",
      "-2141.752899 (54.456308) with: {'max_features': 'sqrt', 'max_depth': 20, 'min_samples_leaf': 100}\n",
      "-2026.763144 (30.231647) with: {'max_features': 'auto', 'max_depth': 20, 'min_samples_leaf': 10}\n",
      "-1906.634051 (56.053296) with: {'max_features': 'auto', 'max_depth': 20, 'min_samples_leaf': 50}\n",
      "-1915.898778 (51.709585) with: {'max_features': 'auto', 'max_depth': 20, 'min_samples_leaf': 70}\n",
      "-1946.063287 (49.462379) with: {'max_features': 'auto', 'max_depth': 20, 'min_samples_leaf': 100}\n",
      "Validation\n",
      "Mean Absolute Error : 27.33\n",
      "Root Mean Squared Error : 43.65\n",
      "R2 Score: 0.622217\n",
      "CPU times: user 876 ms, sys: 172 ms, total: 1.05 s\n",
      "Wall time: 5.26 s\n"
     ]
    }
   ],
   "source": [
    "%%time\n",
    "# Tunning Parameters\n",
    "max_depth = [5, 10, 15, 20]\n",
    "max_features = ['log2', 'sqrt', 'auto']\n",
    "min_samples_leaf = [10, 50, 70, 100]\n",
    "param_grid = dict(max_depth=max_depth, max_features=max_features, \n",
    "                  min_samples_leaf=min_samples_leaf)\n",
    "kfold = KFold(n_splits=5, shuffle=True, random_state=2)\n",
    "\n",
    "grid_search(decision_tree, param_grid, training, validation, kfold)"
   ]
  },
  {
   "cell_type": "markdown",
   "metadata": {},
   "source": [
    "Then we train the model using the parameters found by the gird search to train our final model"
   ]
  },
  {
   "cell_type": "code",
   "execution_count": 24,
   "metadata": {},
   "outputs": [
    {
     "name": "stdout",
     "output_type": "stream",
     "text": [
      "\n",
      "Model Report\n",
      "Training\n",
      "Mean Absolute Error : 26.03\n",
      "Root Mean Squared Error : 41.86\n",
      "R2 Score: 0.639836\n",
      "\n",
      "\n",
      "Validation\n",
      "Mean Absolute Error : 27.33\n",
      "Root Mean Squared Error : 43.65\n",
      "R2 Score: 0.622217\n",
      "\n",
      "[ 0.62889959  0.60697183  0.59667169  0.5888787   0.6178956 ]\n",
      "Mean score: 0.608 (+/-0.014)\n",
      "CPU times: user 424 ms, sys: 4 ms, total: 428 ms\n",
      "Wall time: 423 ms\n"
     ]
    }
   ],
   "source": [
    "%%time\n",
    "predictors = [x for x in training.columns if x not in ['price']]\n",
    "decision_tree_optimal = DecisionTreeRegressor(max_depth=20, min_samples_leaf=50, random_state=8)\n",
    "fit_model(decision_tree_optimal, training, validation, cross_val=True)"
   ]
  },
  {
   "cell_type": "markdown",
   "metadata": {},
   "source": [
    "<div style=\"text-align: justify\">\n",
    "Finally, we evaluate the accuracy of our model using the testing data. If our model is not overfitted, we can expect an accuracy close to the validation accuracy. In the following cell, we can see that indeed the model has almost the same accuracy in the validation dataset and the testing dataset. The mean error of the model is approximately 27 dolars which is a considerable error. But for the sake of simplicity let's assume the model is good enough to make reasonable predictions.\n",
    "</div>"
   ]
  },
  {
   "cell_type": "code",
   "execution_count": 27,
   "metadata": {},
   "outputs": [
    {
     "name": "stdout",
     "output_type": "stream",
     "text": [
      "Testing Dataset Accuracy\n",
      "Mean Absolute Error : 27.11\n",
      "Root Mean Squared Error : 43.27\n",
      "R2 Score: 0.623719\n"
     ]
    }
   ],
   "source": [
    "testing_predictions = decision_tree_optimal.predict(testing[predictors])\n",
    "print \"Testing Dataset Accuracy\"\n",
    "print \"Mean Absolute Error : %.4g\" % mean_absolute_error(testing['price'].values, testing_predictions)\n",
    "print \"Root Mean Squared Error : %.4g\" % np.sqrt(mean_squared_error(testing['price'].values, testing_predictions))\n",
    "print \"R2 Score: %4f\" % r2_score(testing['price'].values, testing_predictions)"
   ]
  },
  {
   "cell_type": "code",
   "execution_count": null,
   "metadata": {
    "collapsed": true
   },
   "outputs": [],
   "source": []
  }
 ],
 "metadata": {
  "kernelspec": {
   "display_name": "Python 2",
   "language": "python",
   "name": "python2"
  },
  "language_info": {
   "codemirror_mode": {
    "name": "ipython",
    "version": 2
   },
   "file_extension": ".py",
   "mimetype": "text/x-python",
   "name": "python",
   "nbconvert_exporter": "python",
   "pygments_lexer": "ipython2",
   "version": "2.7.13"
  }
 },
 "nbformat": 4,
 "nbformat_minor": 2
}
